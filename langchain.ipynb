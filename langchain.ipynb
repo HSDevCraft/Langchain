{
 "cells": [
  {
   "cell_type": "code",
   "execution_count": 1,
   "metadata": {},
   "outputs": [
    {
     "name": "stdout",
     "output_type": "stream",
     "text": [
      "Note: you may need to restart the kernel to use updated packages.Requirement already satisfied: openai in c:\\users\\harshu\\appdata\\local\\programs\\python\\python311\\lib\\site-packages (from -r requirements.txt (line 1)) (0.28.1)\n",
      "Requirement already satisfied: huggingface_hub in c:\\users\\harshu\\appdata\\local\\programs\\python\\python311\\lib\\site-packages (from -r requirements.txt (line 2)) (0.18.0)\n",
      "Requirement already satisfied: python-dotenv in c:\\users\\harshu\\appdata\\local\\programs\\python\\python311\\lib\\site-packages (from -r requirements.txt (line 3)) (1.0.0)\n",
      "Requirement already satisfied: langchain in c:\\users\\harshu\\appdata\\local\\programs\\python\\python311\\lib\\site-packages (from -r requirements.txt (line 4)) (0.0.309)\n",
      "Requirement already satisfied: requests>=2.20 in c:\\users\\harshu\\appdata\\local\\programs\\python\\python311\\lib\\site-packages (from openai->-r requirements.txt (line 1)) (2.31.0)\n",
      "Requirement already satisfied: tqdm in c:\\users\\harshu\\appdata\\local\\programs\\python\\python311\\lib\\site-packages (from openai->-r requirements.txt (line 1)) (4.66.1)\n",
      "Requirement already satisfied: aiohttp in c:\\users\\harshu\\appdata\\local\\programs\\python\\python311\\lib\\site-packages (from openai->-r requirements.txt (line 1)) (3.8.5)\n",
      "Requirement already satisfied: filelock in c:\\users\\harshu\\appdata\\local\\programs\\python\\python311\\lib\\site-packages (from huggingface_hub->-r requirements.txt (line 2)) (3.13.1)\n",
      "Requirement already satisfied: fsspec>=2023.5.0 in c:\\users\\harshu\\appdata\\local\\programs\\python\\python311\\lib\\site-packages (from huggingface_hub->-r requirements.txt (line 2)) (2023.10.0)\n",
      "Requirement already satisfied: pyyaml>=5.1 in c:\\users\\harshu\\appdata\\local\\programs\\python\\python311\\lib\\site-packages (from huggingface_hub->-r requirements.txt (line 2)) (6.0.1)\n",
      "Requirement already satisfied: typing-extensions>=3.7.4.3 in c:\\users\\harshu\\appdata\\local\\programs\\python\\python311\\lib\\site-packages (from huggingface_hub->-r requirements.txt (line 2)) (4.8.0)\n",
      "Requirement already satisfied: packaging>=20.9 in c:\\users\\harshu\\appdata\\roaming\\python\\python311\\site-packages (from huggingface_hub->-r requirements.txt (line 2)) (23.1)\n",
      "Requirement already satisfied: SQLAlchemy<3,>=1.4 in c:\\users\\harshu\\appdata\\local\\programs\\python\\python311\\lib\\site-packages (from langchain->-r requirements.txt (line 4)) (2.0.21)\n",
      "Requirement already satisfied: anyio<4.0 in c:\\users\\harshu\\appdata\\local\\programs\\python\\python311\\lib\\site-packages (from langchain->-r requirements.txt (line 4)) (3.7.1)\n",
      "Requirement already satisfied: dataclasses-json<0.7,>=0.5.7 in c:\\users\\harshu\\appdata\\local\\programs\\python\\python311\\lib\\site-packages (from langchain->-r requirements.txt (line 4)) (0.6.1)\n",
      "Requirement already satisfied: jsonpatch<2.0,>=1.33 in c:\\users\\harshu\\appdata\\local\\programs\\python\\python311\\lib\\site-packages (from langchain->-r requirements.txt (line 4)) (1.33)\n",
      "Requirement already satisfied: langsmith<0.1.0,>=0.0.40 in c:\\users\\harshu\\appdata\\local\\programs\\python\\python311\\lib\\site-packages (from langchain->-r requirements.txt (line 4)) (0.0.43)\n",
      "Requirement already satisfied: numpy<2,>=1 in c:\\users\\harshu\\appdata\\local\\programs\\python\\python311\\lib\\site-packages (from langchain->-r requirements.txt (line 4)) (1.26.0)\n",
      "Requirement already satisfied: pydantic<3,>=1 in c:\\users\\harshu\\appdata\\local\\programs\\python\\python311\\lib\\site-packages (from langchain->-r requirements.txt (line 4)) (2.4.2)\n",
      "Requirement already satisfied: tenacity<9.0.0,>=8.1.0 in c:\\users\\harshu\\appdata\\local\\programs\\python\\python311\\lib\\site-packages (from langchain->-r requirements.txt (line 4)) (8.2.3)\n",
      "Requirement already satisfied: attrs>=17.3.0 in c:\\users\\harshu\\appdata\\local\\programs\\python\\python311\\lib\\site-packages (from aiohttp->openai->-r requirements.txt (line 1)) (23.1.0)\n",
      "Requirement already satisfied: charset-normalizer<4.0,>=2.0 in c:\\users\\harshu\\appdata\\local\\programs\\python\\python311\\lib\\site-packages (from aiohttp->openai->-r requirements.txt (line 1)) (3.2.0)\n",
      "Requirement already satisfied: multidict<7.0,>=4.5 in c:\\users\\harshu\\appdata\\local\\programs\\python\\python311\\lib\\site-packages (from aiohttp->openai->-r requirements.txt (line 1)) (6.0.4)\n",
      "Requirement already satisfied: async-timeout<5.0,>=4.0.0a3 in c:\\users\\harshu\\appdata\\local\\programs\\python\\python311\\lib\\site-packages (from aiohttp->openai->-r requirements.txt (line 1)) (4.0.3)\n",
      "Requirement already satisfied: yarl<2.0,>=1.0 in c:\\users\\harshu\\appdata\\local\\programs\\python\\python311\\lib\\site-packages (from aiohttp->openai->-r requirements.txt (line 1)) (1.9.2)\n",
      "Requirement already satisfied: frozenlist>=1.1.1 in c:\\users\\harshu\\appdata\\local\\programs\\python\\python311\\lib\\site-packages (from aiohttp->openai->-r requirements.txt (line 1)) (1.4.0)\n",
      "Requirement already satisfied: aiosignal>=1.1.2 in c:\\users\\harshu\\appdata\\local\\programs\\python\\python311\\lib\\site-packages (from aiohttp->openai->-r requirements.txt (line 1)) (1.3.1)\n",
      "Requirement already satisfied: idna>=2.8 in c:\\users\\harshu\\appdata\\local\\programs\\python\\python311\\lib\\site-packages (from anyio<4.0->langchain->-r requirements.txt (line 4)) (3.4)\n",
      "Requirement already satisfied: sniffio>=1.1 in c:\\users\\harshu\\appdata\\local\\programs\\python\\python311\\lib\\site-packages (from anyio<4.0->langchain->-r requirements.txt (line 4)) (1.3.0)\n",
      "Requirement already satisfied: marshmallow<4.0.0,>=3.18.0 in c:\\users\\harshu\\appdata\\local\\programs\\python\\python311\\lib\\site-packages (from dataclasses-json<0.7,>=0.5.7->langchain->-r requirements.txt (line 4)) (3.20.1)\n",
      "Requirement already satisfied: typing-inspect<1,>=0.4.0 in c:\\users\\harshu\\appdata\\local\\programs\\python\\python311\\lib\\site-packages (from dataclasses-json<0.7,>=0.5.7->langchain->-r requirements.txt (line 4)) (0.9.0)\n",
      "Requirement already satisfied: jsonpointer>=1.9 in c:\\users\\harshu\\appdata\\local\\programs\\python\\python311\\lib\\site-packages (from jsonpatch<2.0,>=1.33->langchain->-r requirements.txt (line 4)) (2.4)\n",
      "Requirement already satisfied: annotated-types>=0.4.0 in c:\\users\\harshu\\appdata\\local\\programs\\python\\python311\\lib\\site-packages (from pydantic<3,>=1->langchain->-r requirements.txt (line 4)) (0.5.0)\n",
      "Requirement already satisfied: pydantic-core==2.10.1 in c:\\users\\harshu\\appdata\\local\\programs\\python\\python311\\lib\\site-packages (from pydantic<3,>=1->langchain->-r requirements.txt (line 4)) (2.10.1)\n",
      "Requirement already satisfied: urllib3<3,>=1.21.1 in c:\\users\\harshu\\appdata\\local\\programs\\python\\python311\\lib\\site-packages (from requests>=2.20->openai->-r requirements.txt (line 1)) (2.0.5)\n",
      "Requirement already satisfied: certifi>=2017.4.17 in c:\\users\\harshu\\appdata\\local\\programs\\python\\python311\\lib\\site-packages (from requests>=2.20->openai->-r requirements.txt (line 1)) (2023.7.22)\n",
      "Requirement already satisfied: greenlet!=0.4.17 in c:\\users\\harshu\\appdata\\local\\programs\\python\\python311\\lib\\site-packages (from SQLAlchemy<3,>=1.4->langchain->-r requirements.txt (line 4)) (3.0.0)\n",
      "Requirement already satisfied: colorama in c:\\users\\harshu\\appdata\\roaming\\python\\python311\\site-packages (from tqdm->openai->-r requirements.txt (line 1)) (0.4.6)\n",
      "Requirement already satisfied: mypy-extensions>=0.3.0 in c:\\users\\harshu\\appdata\\local\\programs\\python\\python311\\lib\\site-packages (from typing-inspect<1,>=0.4.0->dataclasses-json<0.7,>=0.5.7->langchain->-r requirements.txt (line 4)) (1.0.0)\n",
      "\n"
     ]
    },
    {
     "name": "stderr",
     "output_type": "stream",
     "text": [
      "\n",
      "[notice] A new release of pip is available: 23.2.1 -> 23.3.1\n",
      "[notice] To update, run: python.exe -m pip install --upgrade pip\n"
     ]
    }
   ],
   "source": [
    "pip install -r requirements.txt"
   ]
  },
  {
   "cell_type": "code",
   "execution_count": 2,
   "metadata": {},
   "outputs": [],
   "source": [
    "import os\n",
    "import openai\n",
    "from dotenv import load_dotenv, find_dotenv"
   ]
  },
  {
   "cell_type": "code",
   "execution_count": 3,
   "metadata": {},
   "outputs": [],
   "source": [
    "_ = load_dotenv(find_dotenv())"
   ]
  },
  {
   "cell_type": "code",
   "execution_count": 4,
   "metadata": {},
   "outputs": [],
   "source": [
    "openai.key = os.environ['OPENAI_API_KEY']"
   ]
  },
  {
   "cell_type": "code",
   "execution_count": 5,
   "metadata": {},
   "outputs": [],
   "source": [
    "from langchain.llms import OpenAI"
   ]
  },
  {
   "cell_type": "code",
   "execution_count": 6,
   "metadata": {},
   "outputs": [],
   "source": [
    "llm = OpenAI(openai_api_key=os.environ['OPENAI_API_KEY'] , temperature = 0.6)"
   ]
  },
  {
   "cell_type": "code",
   "execution_count": 7,
   "metadata": {},
   "outputs": [
    {
     "name": "stdout",
     "output_type": "stream",
     "text": [
      "\n",
      "\n",
      "The capital of India is New Delhi.\n"
     ]
    }
   ],
   "source": [
    "text = \"What is the capital of India?\"\n",
    "print(llm.predict(text))"
   ]
  },
  {
   "cell_type": "code",
   "execution_count": 8,
   "metadata": {},
   "outputs": [],
   "source": [
    "os.environ[\"HUGGINGFACEHUB_API_TOKEN\"] = os.environ[\"HUGGINGFACE_TOKEN\"]"
   ]
  },
  {
   "cell_type": "code",
   "execution_count": 9,
   "metadata": {},
   "outputs": [
    {
     "name": "stderr",
     "output_type": "stream",
     "text": [
      "c:\\Users\\Harshu\\AppData\\Local\\Programs\\Python\\Python311\\Lib\\site-packages\\tqdm\\auto.py:21: TqdmWarning: IProgress not found. Please update jupyter and ipywidgets. See https://ipywidgets.readthedocs.io/en/stable/user_install.html\n",
      "  from .autonotebook import tqdm as notebook_tqdm\n",
      "c:\\Users\\Harshu\\AppData\\Local\\Programs\\Python\\Python311\\Lib\\site-packages\\huggingface_hub\\utils\\_deprecation.py:127: FutureWarning: '__init__' (from 'huggingface_hub.inference_api') is deprecated and will be removed from version '0.19.0'. `InferenceApi` client is deprecated in favor of the more feature-complete `InferenceClient`. Check out this guide to learn how to convert your script to use it: https://huggingface.co/docs/huggingface_hub/guides/inference#legacy-inferenceapi-client.\n",
      "  warnings.warn(warning_message, FutureWarning)\n"
     ]
    }
   ],
   "source": [
    "from langchain import HuggingFaceHub\n",
    "llm_huggingface = HuggingFaceHub(repo_id='google/flan-t5-large', model_kwargs={\"temperature\" : 0, \"max_length\" : 64})"
   ]
  },
  {
   "cell_type": "code",
   "execution_count": 10,
   "metadata": {},
   "outputs": [
    {
     "name": "stdout",
     "output_type": "stream",
     "text": [
      "moscow\n"
     ]
    }
   ],
   "source": [
    "output = llm_huggingface.predict(\"Can you tell me the capital of Russia\")\n",
    "print(output)"
   ]
  },
  {
   "cell_type": "code",
   "execution_count": 11,
   "metadata": {},
   "outputs": [
    {
     "name": "stdout",
     "output_type": "stream",
     "text": [
      "i think i know what i want to do with my life i think i know what i want to do with my life i think i know what i want to do with my life i think i know what i want to do with my life i think\n"
     ]
    }
   ],
   "source": [
    "output = llm_huggingface.predict(\"Can you write a poem about Generative AI\")\n",
    "print(output)"
   ]
  },
  {
   "cell_type": "code",
   "execution_count": 12,
   "metadata": {},
   "outputs": [
    {
     "name": "stdout",
     "output_type": "stream",
     "text": [
      "\n",
      "\n",
      "Generative AI,\n",
      "A tool of the future,\n",
      "Able to create art,\n",
      "In ways we can’t measure.\n",
      "\n",
      "It can generate stories,\n",
      "And manipulate data,\n",
      "Making the impossible,\n",
      "A reality of the future state.\n",
      "\n",
      "It can create images,\n",
      "In a way that’s never been seen,\n",
      "Making art unique and powerful,\n",
      "In ways that humans have never been.\n",
      "\n",
      "It can generate music,\n",
      "In a way that’s never been heard,\n",
      "Creating sounds that are truly unique,\n",
      "For the world to observe.\n",
      "\n",
      "Generative AI,\n",
      "A tool of the future,\n",
      "It’s power and potential,\n",
      "Are waiting to be explored.\n"
     ]
    }
   ],
   "source": [
    "print(llm.predict(\"Can you write a poem about Generative AI\"))"
   ]
  },
  {
   "cell_type": "markdown",
   "metadata": {},
   "source": [
    "## **Prompt Templates And LLMChain**"
   ]
  },
  {
   "cell_type": "code",
   "execution_count": null,
   "metadata": {},
   "outputs": [],
   "source": []
  }
 ],
 "metadata": {
  "kernelspec": {
   "display_name": "Python 3",
   "language": "python",
   "name": "python3"
  },
  "language_info": {
   "codemirror_mode": {
    "name": "ipython",
    "version": 3
   },
   "file_extension": ".py",
   "mimetype": "text/x-python",
   "name": "python",
   "nbconvert_exporter": "python",
   "pygments_lexer": "ipython3",
   "version": "3.11.5"
  }
 },
 "nbformat": 4,
 "nbformat_minor": 2
}
